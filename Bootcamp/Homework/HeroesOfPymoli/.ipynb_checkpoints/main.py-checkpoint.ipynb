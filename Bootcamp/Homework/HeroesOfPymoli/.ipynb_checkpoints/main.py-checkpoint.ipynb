{
 "cells": [
  {
   "cell_type": "code",
   "execution_count": 142,
   "metadata": {},
   "outputs": [
    {
     "data": {
      "text/plain": [
       "'Due 03/19/18'"
      ]
     },
     "execution_count": 142,
     "metadata": {},
     "output_type": "execute_result"
    }
   ],
   "source": [
    "# Heroes Of Pymoli Data Analysis\n",
    "'''John M Warlop'''\n",
    "'''UCSD Bootcamp'''\n",
    "'''Due 03/19/18'''"
   ]
  },
  {
   "cell_type": "code",
   "execution_count": 143,
   "metadata": {
    "collapsed": true
   },
   "outputs": [],
   "source": [
    "#Import dependencies\n",
    "import pandas as pd\n",
    "import numpy as np\n",
    "df = pd.read_json('purchase_data.json')"
   ]
  },
  {
   "cell_type": "code",
   "execution_count": 144,
   "metadata": {
    "collapsed": true
   },
   "outputs": [],
   "source": [
    "df = df.rename(columns = {'Item ID':'Item_ID'})\n",
    "unq_items              = df.Item_ID.nunique()\n",
    "price_vector           = df['Price'].tolist()\n",
    "(max_pr,min_pr)        = (max(price_vector),min(price_vector))\n",
    "max_min_delta          = max_pr - min_pr"
   ]
  },
  {
   "cell_type": "code",
   "execution_count": 145,
   "metadata": {
    "collapsed": true
   },
   "outputs": [],
   "source": [
    "##Player Count"
   ]
  },
  {
   "cell_type": "code",
   "execution_count": 146,
   "metadata": {},
   "outputs": [
    {
     "data": {
      "text/html": [
       "<div>\n",
       "<style>\n",
       "    .dataframe thead tr:only-child th {\n",
       "        text-align: right;\n",
       "    }\n",
       "\n",
       "    .dataframe thead th {\n",
       "        text-align: left;\n",
       "    }\n",
       "\n",
       "    .dataframe tbody tr th {\n",
       "        vertical-align: top;\n",
       "    }\n",
       "</style>\n",
       "<table border=\"1\" class=\"dataframe\">\n",
       "  <thead>\n",
       "    <tr style=\"text-align: right;\">\n",
       "      <th></th>\n",
       "      <th>Total Players</th>\n",
       "    </tr>\n",
       "  </thead>\n",
       "  <tbody>\n",
       "    <tr>\n",
       "      <th>0</th>\n",
       "      <td>573</td>\n",
       "    </tr>\n",
       "  </tbody>\n",
       "</table>\n",
       "</div>"
      ],
      "text/plain": [
       "   Total Players\n",
       "0            573"
      ]
     },
     "execution_count": 146,
     "metadata": {},
     "output_type": "execute_result"
    }
   ],
   "source": [
    "unq_players = df.SN.nunique()\n",
    "u_ply = unq_players\n",
    "unq_ply_df=pd.DataFrame(np.array([[u_ply]]))\n",
    "unq_ply_df=unq_ply_df.rename(columns={0:'Total Players'})\n",
    "unq_ply_df"
   ]
  },
  {
   "cell_type": "code",
   "execution_count": 147,
   "metadata": {
    "collapsed": true
   },
   "outputs": [],
   "source": [
    "##Purchasing Analysis(Total)"
   ]
  },
  {
   "cell_type": "code",
   "execution_count": 148,
   "metadata": {},
   "outputs": [
    {
     "data": {
      "text/html": [
       "<div>\n",
       "<style>\n",
       "    .dataframe thead tr:only-child th {\n",
       "        text-align: right;\n",
       "    }\n",
       "\n",
       "    .dataframe thead th {\n",
       "        text-align: left;\n",
       "    }\n",
       "\n",
       "    .dataframe tbody tr th {\n",
       "        vertical-align: top;\n",
       "    }\n",
       "</style>\n",
       "<table border=\"1\" class=\"dataframe\">\n",
       "  <thead>\n",
       "    <tr style=\"text-align: right;\">\n",
       "      <th></th>\n",
       "      <th>Number of Unique Items</th>\n",
       "      <th>Average Price</th>\n",
       "      <th>Number of Purchases</th>\n",
       "      <th>Total Revenue</th>\n",
       "    </tr>\n",
       "  </thead>\n",
       "  <tbody>\n",
       "    <tr>\n",
       "      <th>0</th>\n",
       "      <td>183.0</td>\n",
       "      <td>2.93</td>\n",
       "      <td>780.0</td>\n",
       "      <td>2286.33</td>\n",
       "    </tr>\n",
       "  </tbody>\n",
       "</table>\n",
       "</div>"
      ],
      "text/plain": [
       "   Number of Unique Items  Average Price  Number of Purchases  Total Revenue\n",
       "0                   183.0           2.93                780.0        2286.33"
      ]
     },
     "execution_count": 148,
     "metadata": {},
     "output_type": "execute_result"
    }
   ],
   "source": [
    "df_pur_c=pd.DataFrame({'count' : df.groupby( [ \"SN\", \"Item_ID\",'Price'] ).\\\n",
    "                       size()}).reset_index()\n",
    "(c_list,pr_list)          = (df_pur_c['count'].tolist(),df_pur_c['Price'].tolist())\n",
    "(rev_unq_pur,num_unq_pur) = sum(pr_list),len(c_list)\n",
    "'''Extended Prie'''\n",
    "ext_price                 = [a*b for a,b in zip(pr_list,c_list)] \n",
    "(avg_pr_unq_pur,avg_pr_all_pur) = rev_unq_pur/num_unq_pur, sum(ext_price)/sum(c_list)\n",
    "pur_analysis=pd.DataFrame(np.array([[unq_items,avg_pr_all_pur,sum(c_list),sum(ext_price)]]))\n",
    "pur_analysis.columns=['Number of Unique Items','Average Price',\n",
    "                      'Number of Purchases','Total Revenue']\n",
    "pur_analysis.round(2)"
   ]
  },
  {
   "cell_type": "code",
   "execution_count": 149,
   "metadata": {
    "collapsed": true
   },
   "outputs": [],
   "source": [
    "u_s=df.T.apply(lambda x: x.nunique(),axis=1)"
   ]
  },
  {
   "cell_type": "code",
   "execution_count": 150,
   "metadata": {
    "collapsed": true
   },
   "outputs": [],
   "source": [
    "## Gender Demographics"
   ]
  },
  {
   "cell_type": "code",
   "execution_count": 151,
   "metadata": {
    "collapsed": true
   },
   "outputs": [],
   "source": [
    "df_pur_gender_c=pd.DataFrame({'count' : df.\\\n",
    "                              groupby( [ \"SN\",'Gender'] ).size()}).reset_index()\n"
   ]
  },
  {
   "cell_type": "code",
   "execution_count": 152,
   "metadata": {},
   "outputs": [],
   "source": [
    "'''Make Gender and count lists'''\n",
    "gender_list = df_pur_gender_c['Gender'].tolist()    \n",
    "count_list  = df_pur_gender_c['count'].tolist()  \n",
    "'''Male,Female and other lists'''\n",
    "y=[1 if a == 'Male'   else 0 for a in gender_list]\n",
    "x=[1 if a == 'Female' else 0 for a in gender_list]\n",
    "z=[1 if a != 'Male' and a != 'Female' else 0 for a in gender_list]\n",
    "'''Total Counts'''\n",
    "(ttl_cnt_unq_male,ttl_cnt_unq_female,ttl_cnt_unq_other) = sum(y),sum(x),sum(z)\n",
    "'''Percentage Breakdown of Genders'''\n",
    "(per_male,per_female,per_other) = (ttl_cnt_unq_male/u_ply)*100.0,\\\n",
    "                                    (ttl_cnt_unq_female/u_ply)*100.0,\\\n",
    "                                    (ttl_cnt_unq_other/u_ply)*100.0"
   ]
  },
  {
   "cell_type": "code",
   "execution_count": 153,
   "metadata": {},
   "outputs": [
    {
     "data": {
      "text/html": [
       "<div>\n",
       "<style>\n",
       "    .dataframe thead tr:only-child th {\n",
       "        text-align: right;\n",
       "    }\n",
       "\n",
       "    .dataframe thead th {\n",
       "        text-align: left;\n",
       "    }\n",
       "\n",
       "    .dataframe tbody tr th {\n",
       "        vertical-align: top;\n",
       "    }\n",
       "</style>\n",
       "<table border=\"1\" class=\"dataframe\">\n",
       "  <thead>\n",
       "    <tr style=\"text-align: right;\">\n",
       "      <th></th>\n",
       "      <th>Percentage of Players</th>\n",
       "      <th>Total Count</th>\n",
       "    </tr>\n",
       "  </thead>\n",
       "  <tbody>\n",
       "    <tr>\n",
       "      <th>Male</th>\n",
       "      <td>81.15</td>\n",
       "      <td>465.0</td>\n",
       "    </tr>\n",
       "    <tr>\n",
       "      <th>Female</th>\n",
       "      <td>17.45</td>\n",
       "      <td>100.0</td>\n",
       "    </tr>\n",
       "    <tr>\n",
       "      <th>Other/Non-Disclosed</th>\n",
       "      <td>1.40</td>\n",
       "      <td>8.0</td>\n",
       "    </tr>\n",
       "  </tbody>\n",
       "</table>\n",
       "</div>"
      ],
      "text/plain": [
       "                     Percentage of Players  Total Count\n",
       "Male                                 81.15        465.0\n",
       "Female                               17.45        100.0\n",
       "Other/Non-Disclosed                   1.40          8.0"
      ]
     },
     "execution_count": 153,
     "metadata": {},
     "output_type": "execute_result"
    }
   ],
   "source": [
    "'''Make dataframe to hold data'''\n",
    "gender_df=pd.DataFrame(np.array([[per_male,ttl_cnt_unq_male],\\\n",
    "                           [per_female,ttl_cnt_unq_female],\\\n",
    "                           [per_other,ttl_cnt_unq_other]]))\n",
    "gender_df=gender_df.rename(columns={0:'Percentage of Players',1:'Total Count'})\n",
    "gender_df=gender_df.rename(index={0:'Male',1:'Female',2:'Other/Non-Disclosed'})\n",
    "gender_df.round(2)"
   ]
  },
  {
   "cell_type": "code",
   "execution_count": 154,
   "metadata": {},
   "outputs": [],
   "source": [
    "#Purchasing Analysis(Gender)\n"
   ]
  },
  {
   "cell_type": "code",
   "execution_count": 155,
   "metadata": {
    "collapsed": true
   },
   "outputs": [],
   "source": [
    "pur_gndr_cnt=pd.DataFrame({'count' : df.\\\n",
    "                              groupby( [ \"Price\",'Gender'] ).size()}).reset_index()\n"
   ]
  },
  {
   "cell_type": "code",
   "execution_count": 156,
   "metadata": {},
   "outputs": [
    {
     "data": {
      "text/html": [
       "<div>\n",
       "<style>\n",
       "    .dataframe thead tr:only-child th {\n",
       "        text-align: right;\n",
       "    }\n",
       "\n",
       "    .dataframe thead th {\n",
       "        text-align: left;\n",
       "    }\n",
       "\n",
       "    .dataframe tbody tr th {\n",
       "        vertical-align: top;\n",
       "    }\n",
       "</style>\n",
       "<table border=\"1\" class=\"dataframe\">\n",
       "  <thead>\n",
       "    <tr style=\"text-align: right;\">\n",
       "      <th></th>\n",
       "      <th>Purchase Count</th>\n",
       "      <th>Avg Purchase Price</th>\n",
       "      <th>Total Purchase Value</th>\n",
       "      <th>Normalized Totals</th>\n",
       "    </tr>\n",
       "  </thead>\n",
       "  <tbody>\n",
       "    <tr>\n",
       "      <th>Female</th>\n",
       "      <td>136.0</td>\n",
       "      <td>2.82</td>\n",
       "      <td>382.91</td>\n",
       "      <td>3.83</td>\n",
       "    </tr>\n",
       "    <tr>\n",
       "      <th>Male</th>\n",
       "      <td>633.0</td>\n",
       "      <td>2.95</td>\n",
       "      <td>1867.68</td>\n",
       "      <td>4.02</td>\n",
       "    </tr>\n",
       "    <tr>\n",
       "      <th>Other/Non-disclosed</th>\n",
       "      <td>11.0</td>\n",
       "      <td>3.25</td>\n",
       "      <td>35.74</td>\n",
       "      <td>4.47</td>\n",
       "    </tr>\n",
       "  </tbody>\n",
       "</table>\n",
       "</div>"
      ],
      "text/plain": [
       "                     Purchase Count  Avg Purchase Price  Total Purchase Value  \\\n",
       "Female                        136.0                2.82                382.91   \n",
       "Male                          633.0                2.95               1867.68   \n",
       "Other/Non-disclosed            11.0                3.25                 35.74   \n",
       "\n",
       "                     Normalized Totals  \n",
       "Female                            3.83  \n",
       "Male                              4.02  \n",
       "Other/Non-disclosed               4.47  "
      ]
     },
     "execution_count": 156,
     "metadata": {},
     "output_type": "execute_result"
    }
   ],
   "source": [
    "cnt_lst        = pur_gndr_cnt['count'].tolist()\n",
    "gender_lst     = pur_gndr_cnt['Gender'].tolist()\n",
    "price_lst      = pur_gndr_cnt['Price'].tolist()\n",
    "'''Purchase Count by Gender'''\n",
    "ttl_sales_cnt_female   = sum([a for a,b in zip(cnt_lst,gender_lst) if b == 'Female'])\n",
    "ttl_sales_cnt_male     = sum([a for a,b in zip(cnt_lst,gender_lst) if b == 'Male'])\n",
    "ttl_sales_cnt_other    = sum(cnt_lst)-ttl_sales_cnt_female-ttl_sales_cnt_male\n",
    "'''Total Sales by Gender'''\n",
    "ttl_sales_female_lst = [a*b for a,b,c in zip(cnt_lst,price_lst,gender_lst) if c == 'Female']\n",
    "ttl_sales_male_lst   = [a*b for a,b,c in zip(cnt_lst,price_lst,gender_lst) if c == 'Male']\n",
    "ttl_sales_other_lst  = [a*b for a,b,c in zip(cnt_lst,price_lst,gender_lst) if \\\n",
    "                        c != 'Female' and c != 'Male']\n",
    "'''Average Price per Gender'''\n",
    "avg_pr_female = sum(ttl_sales_female_lst)/ttl_sales_cnt_female\n",
    "avg_pr_male   = sum(ttl_sales_male_lst)/ttl_sales_cnt_male\n",
    "avg_pr_other  = sum(ttl_sales_other_lst)/ttl_sales_cnt_other\n",
    "'''Normalized Data'''\n",
    "norm_female = sum(ttl_sales_female_lst)/ttl_cnt_unq_female\n",
    "norm_male   = sum(ttl_sales_male_lst)/ttl_cnt_unq_male\n",
    "norm_other  = sum(ttl_sales_other_lst)/ttl_cnt_unq_other\n",
    "'''Build DataFrame'''\n",
    "gender_pur_df=pd.DataFrame(np.array([\\\n",
    "        [ttl_sales_cnt_female,avg_pr_female,sum(ttl_sales_female_lst),norm_female],\\\n",
    "        [ttl_sales_cnt_male,avg_pr_male,sum(ttl_sales_male_lst),norm_male],\\\n",
    "        [ttl_sales_cnt_other,avg_pr_other,sum(ttl_sales_other_lst),norm_other]]))\n",
    "gender_pur_df=gender_pur_df.rename(columns={0:'Purchase Count',1:'Avg Purchase Price',\\\n",
    "                                            2:'Total Purchase Value',3:'Normalized Totals'})\n",
    "gender_pur_df=gender_pur_df.rename(index={0:'Female',1:'Male',2:'Other/Non-disclosed'})\n",
    "gender_pur_df.round(2)"
   ]
  },
  {
   "cell_type": "code",
   "execution_count": 157,
   "metadata": {
    "collapsed": true
   },
   "outputs": [],
   "source": [
    "#Age Demographics"
   ]
  },
  {
   "cell_type": "code",
   "execution_count": 158,
   "metadata": {
    "collapsed": true
   },
   "outputs": [],
   "source": [
    "age_demo_cnt=pd.DataFrame({'count' : df.\\\n",
    "                              groupby( [ \"SN\",\"Age\"] ).size()}).reset_index()\n"
   ]
  },
  {
   "cell_type": "code",
   "execution_count": 159,
   "metadata": {},
   "outputs": [
    {
     "data": {
      "text/html": [
       "<div>\n",
       "<style>\n",
       "    .dataframe thead tr:only-child th {\n",
       "        text-align: right;\n",
       "    }\n",
       "\n",
       "    .dataframe thead th {\n",
       "        text-align: left;\n",
       "    }\n",
       "\n",
       "    .dataframe tbody tr th {\n",
       "        vertical-align: top;\n",
       "    }\n",
       "</style>\n",
       "<table border=\"1\" class=\"dataframe\">\n",
       "  <thead>\n",
       "    <tr style=\"text-align: right;\">\n",
       "      <th></th>\n",
       "      <th>Percentage of Players</th>\n",
       "      <th>Total Count</th>\n",
       "    </tr>\n",
       "  </thead>\n",
       "  <tbody>\n",
       "    <tr>\n",
       "      <th>&lt;10</th>\n",
       "      <td>3.315881</td>\n",
       "      <td>19.0</td>\n",
       "    </tr>\n",
       "    <tr>\n",
       "      <th>10-14</th>\n",
       "      <td>4.013962</td>\n",
       "      <td>23.0</td>\n",
       "    </tr>\n",
       "    <tr>\n",
       "      <th>15-19</th>\n",
       "      <td>17.452007</td>\n",
       "      <td>100.0</td>\n",
       "    </tr>\n",
       "    <tr>\n",
       "      <th>20-24</th>\n",
       "      <td>45.200698</td>\n",
       "      <td>259.0</td>\n",
       "    </tr>\n",
       "    <tr>\n",
       "      <th>25-29</th>\n",
       "      <td>15.183246</td>\n",
       "      <td>87.0</td>\n",
       "    </tr>\n",
       "    <tr>\n",
       "      <th>30-34</th>\n",
       "      <td>8.202443</td>\n",
       "      <td>47.0</td>\n",
       "    </tr>\n",
       "    <tr>\n",
       "      <th>35-39</th>\n",
       "      <td>4.712042</td>\n",
       "      <td>27.0</td>\n",
       "    </tr>\n",
       "    <tr>\n",
       "      <th>40+</th>\n",
       "      <td>1.919721</td>\n",
       "      <td>11.0</td>\n",
       "    </tr>\n",
       "  </tbody>\n",
       "</table>\n",
       "</div>"
      ],
      "text/plain": [
       "       Percentage of Players  Total Count\n",
       "<10                 3.315881         19.0\n",
       "10-14               4.013962         23.0\n",
       "15-19              17.452007        100.0\n",
       "20-24              45.200698        259.0\n",
       "25-29              15.183246         87.0\n",
       "30-34               8.202443         47.0\n",
       "35-39               4.712042         27.0\n",
       "40+                 1.919721         11.0"
      ]
     },
     "execution_count": 159,
     "metadata": {},
     "output_type": "execute_result"
    }
   ],
   "source": [
    "\n",
    "age_lst=age_demo_cnt['Age'].tolist()\n",
    "x10 = [1 for a in age_lst if a < 10]\n",
    "x14 = [1 for a in age_lst if a < 15 and a >= 10]\n",
    "x19 = [1 for a in age_lst if a < 20 and a >= 15]\n",
    "x24 = [1 for a in age_lst if a < 25 and a >= 20]\n",
    "x29 = [1 for a in age_lst if a < 30 and a >= 25]\n",
    "x34 = [1 for a in age_lst if a < 35 and a >= 30]\n",
    "x39 = [1 for a in age_lst if a < 40 and a >= 35]\n",
    "x40 = [1 for a in age_lst if a >= 40]\n",
    "age_demo_df = pd.DataFrame(np.array([\\\n",
    "                                    [100.0*(sum(x10)/unq_players),sum(x10)],\\\n",
    "                                    [100.0*(sum(x14)/unq_players),sum(x14)],\\\n",
    "                                    [100.0*(sum(x19)/unq_players),sum(x19)],\\\n",
    "                                    [100.0*(sum(x24)/unq_players),sum(x24)],\\\n",
    "                                    [100.0*(sum(x29)/unq_players),sum(x29)],\\\n",
    "                                    [100.0*(sum(x34)/unq_players),sum(x34)],\\\n",
    "                                    [100.0*(sum(x39)/unq_players),sum(x39)],\\\n",
    "                                    [100.0*(sum(x40)/unq_players),sum(x40)]\\\n",
    "                                    ]))\n",
    "age_demo_df=age_demo_df.rename(columns={0:'Percentage of Players',\\\n",
    "                                        1:'Total Count'})\n",
    "\n",
    "age_demo_df\n",
    "age_bins = {0:'<10',1:'10-14',2:'15-19',3:'20-24',4: '25-29',5:'30-34',6: '35-39',7:'40+'}\n",
    "age_demo_df=age_demo_df.rename(index=age_bins)\n",
    "age_demo_df\n"
   ]
  },
  {
   "cell_type": "code",
   "execution_count": 126,
   "metadata": {
    "collapsed": true
   },
   "outputs": [],
   "source": [
    "#Purchasing Analysis(Age)\n"
   ]
  },
  {
   "cell_type": "code",
   "execution_count": 127,
   "metadata": {},
   "outputs": [
    {
     "data": {
      "text/html": [
       "<div>\n",
       "<style>\n",
       "    .dataframe thead tr:only-child th {\n",
       "        text-align: right;\n",
       "    }\n",
       "\n",
       "    .dataframe thead th {\n",
       "        text-align: left;\n",
       "    }\n",
       "\n",
       "    .dataframe tbody tr th {\n",
       "        vertical-align: top;\n",
       "    }\n",
       "</style>\n",
       "<table border=\"1\" class=\"dataframe\">\n",
       "  <thead>\n",
       "    <tr style=\"text-align: right;\">\n",
       "      <th></th>\n",
       "      <th>Purchase Count</th>\n",
       "      <th>Avg. Purchase Price</th>\n",
       "      <th>Total Purchase Value</th>\n",
       "      <th>Normalized Totals</th>\n",
       "    </tr>\n",
       "  </thead>\n",
       "  <tbody>\n",
       "    <tr>\n",
       "      <th>&lt;10</th>\n",
       "      <td>28.0</td>\n",
       "      <td>2.98</td>\n",
       "      <td>83.46</td>\n",
       "      <td>4.39</td>\n",
       "    </tr>\n",
       "    <tr>\n",
       "      <th>10-14</th>\n",
       "      <td>35.0</td>\n",
       "      <td>2.77</td>\n",
       "      <td>96.95</td>\n",
       "      <td>4.22</td>\n",
       "    </tr>\n",
       "    <tr>\n",
       "      <th>15-19</th>\n",
       "      <td>133.0</td>\n",
       "      <td>2.91</td>\n",
       "      <td>386.42</td>\n",
       "      <td>3.86</td>\n",
       "    </tr>\n",
       "    <tr>\n",
       "      <th>20-24</th>\n",
       "      <td>336.0</td>\n",
       "      <td>2.91</td>\n",
       "      <td>978.77</td>\n",
       "      <td>3.78</td>\n",
       "    </tr>\n",
       "    <tr>\n",
       "      <th>25-29</th>\n",
       "      <td>125.0</td>\n",
       "      <td>2.96</td>\n",
       "      <td>370.33</td>\n",
       "      <td>4.26</td>\n",
       "    </tr>\n",
       "    <tr>\n",
       "      <th>30-34</th>\n",
       "      <td>64.0</td>\n",
       "      <td>3.08</td>\n",
       "      <td>197.25</td>\n",
       "      <td>4.20</td>\n",
       "    </tr>\n",
       "    <tr>\n",
       "      <th>35-39</th>\n",
       "      <td>42.0</td>\n",
       "      <td>2.84</td>\n",
       "      <td>119.40</td>\n",
       "      <td>4.42</td>\n",
       "    </tr>\n",
       "    <tr>\n",
       "      <th>40+</th>\n",
       "      <td>17.0</td>\n",
       "      <td>3.16</td>\n",
       "      <td>53.75</td>\n",
       "      <td>4.89</td>\n",
       "    </tr>\n",
       "  </tbody>\n",
       "</table>\n",
       "</div>"
      ],
      "text/plain": [
       "       Purchase Count  Avg. Purchase Price  Total Purchase Value  \\\n",
       "<10              28.0                 2.98                 83.46   \n",
       "10-14            35.0                 2.77                 96.95   \n",
       "15-19           133.0                 2.91                386.42   \n",
       "20-24           336.0                 2.91                978.77   \n",
       "25-29           125.0                 2.96                370.33   \n",
       "30-34            64.0                 3.08                197.25   \n",
       "35-39            42.0                 2.84                119.40   \n",
       "40+              17.0                 3.16                 53.75   \n",
       "\n",
       "       Normalized Totals  \n",
       "<10                 4.39  \n",
       "10-14               4.22  \n",
       "15-19               3.86  \n",
       "20-24               3.78  \n",
       "25-29               4.26  \n",
       "30-34               4.20  \n",
       "35-39               4.42  \n",
       "40+                 4.89  "
      ]
     },
     "execution_count": 127,
     "metadata": {},
     "output_type": "execute_result"
    }
   ],
   "source": [
    "pur_age_cnt=pd.DataFrame({'count' : df.\\\n",
    "                              groupby( [ \"Price\",'Age'] ).size()}).reset_index()\n",
    "cnt_lst   = pur_age_cnt['count'].tolist()\n",
    "age_lst   = pur_age_cnt['Age'].tolist()\n",
    "price_lst = pur_age_cnt['Price'].tolist()\n",
    "age_price_lst = [(a,b*c,b) for a,b,c in zip(age_lst,cnt_lst,price_lst)]#[(age,ttl,cnt)...]\n",
    "ttl_pur_age_lst=[0]*100 # Will hold total purchased by given age\n",
    "ttl_cnt_age_lst=[0]*100 # Will hold total count of purchased items\n",
    "for i in age_price_lst:\n",
    "    ttl_pur_age_lst[i[0]] = ttl_pur_age_lst[i[0]]+i[1]\n",
    "    ttl_cnt_age_lst[i[0]] = ttl_cnt_age_lst[i[0]]+i[2]\n",
    "'''Percentages and Counts for each bin'''\n",
    "(p10,p14,p19,p24) = sum(ttl_pur_age_lst[0:10]), sum(ttl_pur_age_lst[10:15]),\\\n",
    "                    sum(ttl_pur_age_lst[15:20]),sum(ttl_pur_age_lst[20:25])\n",
    "(p29,p34,p39,p40) = sum(ttl_pur_age_lst[25:30]),sum(ttl_pur_age_lst[30:35]),\\\n",
    "                    sum(ttl_pur_age_lst[35:40]),sum(ttl_pur_age_lst[40:])\n",
    "(c10,c14,c19,c24) = sum(ttl_cnt_age_lst[0:10]),sum(ttl_cnt_age_lst[10:15]),\\\n",
    "                    sum(ttl_cnt_age_lst[15:20]),sum(ttl_cnt_age_lst[20:25])\n",
    "(c29,c34,c39,c40) = sum(ttl_cnt_age_lst[25:30]),sum(ttl_cnt_age_lst[30:35]),\\\n",
    "                    sum(ttl_cnt_age_lst[35:40]),sum(ttl_cnt_age_lst[40:])\n",
    "age_pur_anal_df = pd.DataFrame(np.array([\\\n",
    "                                     [c10,p10/c10,p10,p10/sum(x10)],\n",
    "                                     [c14,p14/c14,p14,p14/sum(x14)],\n",
    "                                     [c19,p19/c19,p19,p19/sum(x19)],\n",
    "                                     [c24,p24/c24,p24,p24/sum(x24)],\n",
    "                                     [c29,p29/c29,p29,p29/sum(x29)],\n",
    "                                     [c34,p34/c34,p34,p34/sum(x34)],\n",
    "                                     [c39,p39/c39,p39,p39/sum(x39)],\n",
    "                                     [c40,p40/c40,p40,p40/sum(x40)]]))\n",
    "age_pur_anal_df=age_pur_anal_df.rename(columns={0:'Purchase Count',\\\n",
    "                                                1:'Avg. Purchase Price',\\\n",
    "                                                2.:'Total Purchase Value',\\\n",
    "                                                3.:'Normalized Totals'})\n",
    "\n",
    "age_pur_anal_df=age_pur_anal_df.rename(index=age_bins)\n",
    "age_pur_anal_df.round(2)\n",
    "\n"
   ]
  },
  {
   "cell_type": "code",
   "execution_count": 128,
   "metadata": {
    "collapsed": true
   },
   "outputs": [],
   "source": [
    "#Top Spenders"
   ]
  },
  {
   "cell_type": "code",
   "execution_count": 162,
   "metadata": {},
   "outputs": [
    {
     "data": {
      "text/html": [
       "<div>\n",
       "<style>\n",
       "    .dataframe thead tr:only-child th {\n",
       "        text-align: right;\n",
       "    }\n",
       "\n",
       "    .dataframe thead th {\n",
       "        text-align: left;\n",
       "    }\n",
       "\n",
       "    .dataframe tbody tr th {\n",
       "        vertical-align: top;\n",
       "    }\n",
       "</style>\n",
       "<table border=\"1\" class=\"dataframe\">\n",
       "  <thead>\n",
       "    <tr style=\"text-align: right;\">\n",
       "      <th></th>\n",
       "      <th>Avg. Purchase Price</th>\n",
       "      <th>Purchase Count</th>\n",
       "      <th>SN</th>\n",
       "      <th>Total Purchase Value</th>\n",
       "    </tr>\n",
       "  </thead>\n",
       "  <tbody>\n",
       "    <tr>\n",
       "      <th>538</th>\n",
       "      <td>3.412000</td>\n",
       "      <td>5</td>\n",
       "      <td>Undirrala66</td>\n",
       "      <td>17.06</td>\n",
       "    </tr>\n",
       "    <tr>\n",
       "      <th>428</th>\n",
       "      <td>3.390000</td>\n",
       "      <td>4</td>\n",
       "      <td>Saedue76</td>\n",
       "      <td>13.56</td>\n",
       "    </tr>\n",
       "    <tr>\n",
       "      <th>354</th>\n",
       "      <td>3.185000</td>\n",
       "      <td>4</td>\n",
       "      <td>Mindimnya67</td>\n",
       "      <td>12.74</td>\n",
       "    </tr>\n",
       "    <tr>\n",
       "      <th>181</th>\n",
       "      <td>4.243333</td>\n",
       "      <td>3</td>\n",
       "      <td>Haellysu29</td>\n",
       "      <td>12.73</td>\n",
       "    </tr>\n",
       "    <tr>\n",
       "      <th>120</th>\n",
       "      <td>3.860000</td>\n",
       "      <td>3</td>\n",
       "      <td>Eoda93</td>\n",
       "      <td>11.58</td>\n",
       "    </tr>\n",
       "  </tbody>\n",
       "</table>\n",
       "</div>"
      ],
      "text/plain": [
       "     Avg. Purchase Price  Purchase Count           SN  Total Purchase Value\n",
       "538             3.412000               5  Undirrala66                 17.06\n",
       "428             3.390000               4     Saedue76                 13.56\n",
       "354             3.185000               4  Mindimnya67                 12.74\n",
       "181             4.243333               3   Haellysu29                 12.73\n",
       "120             3.860000               3       Eoda93                 11.58"
      ]
     },
     "execution_count": 162,
     "metadata": {},
     "output_type": "execute_result"
    }
   ],
   "source": [
    "sn_price_df=pd.DataFrame({'count' : df.\\\n",
    "                              groupby( [ \"SN\",\"Price\"] ).size()}).reset_index()\n",
    "sn_price_df\n",
    "sn_lst  = sn_price_df['SN'].tolist()\n",
    "pr_lst  = sn_price_df['Price'].tolist()\n",
    "cnt_lst = sn_price_df['count'].tolist()\n",
    "'''x[sn,num_purchased,price,ext_price]'''\n",
    "x = [(a,b,c,b*c) for a,b,c in zip(sn_lst,cnt_lst,pr_lst)]\n",
    "'''y={SN:ttlCount,ttlPrice,avgPrice}'''\n",
    "y = {} \n",
    "'''#t[0]=SN t[1] = count, t[2] = price, t[3] == ttl_price'''\n",
    "for t in x: \n",
    "    if t[0] in y: \n",
    "        y[t[0]][0]+=t[1]\n",
    "        y[t[0]][1]+=t[3]\n",
    "        y[t[0]][2] = y[t[0]][1]/y[t[0]][0]\n",
    "    else:\n",
    "        y[t[0]]=[t[1],t[3],t[2]]\n",
    "sn        = [a for a in y]\n",
    "cnt       = [y[x][0] for x in y]\n",
    "ttl_price = [y[x][1] for x in y]\n",
    "avg_price = [y[x][2] for x in y]\n",
    "d={'SN': [a for a in sn],'Purchase Count':[a for a in cnt],\\\n",
    "    'Avg. Purchase Price': [a for a in avg_price],'Total Purchase Value':[a for a in ttl_price]}\n",
    "top_sp_df=pd.DataFrame(data=d)\n",
    "top_sp_sort_df = top_sp_df.sort_values(by='Total Purchase Value',ascending=False)\n",
    "top_sp_sort_df.head()\n",
    "\n"
   ]
  },
  {
   "cell_type": "code",
   "execution_count": 130,
   "metadata": {
    "collapsed": true
   },
   "outputs": [],
   "source": [
    "#Most Popular Items"
   ]
  },
  {
   "cell_type": "code",
   "execution_count": 141,
   "metadata": {},
   "outputs": [
    {
     "data": {
      "text/html": [
       "<div>\n",
       "<style>\n",
       "    .dataframe thead tr:only-child th {\n",
       "        text-align: right;\n",
       "    }\n",
       "\n",
       "    .dataframe thead th {\n",
       "        text-align: left;\n",
       "    }\n",
       "\n",
       "    .dataframe tbody tr th {\n",
       "        vertical-align: top;\n",
       "    }\n",
       "</style>\n",
       "<table border=\"1\" class=\"dataframe\">\n",
       "  <thead>\n",
       "    <tr style=\"text-align: right;\">\n",
       "      <th></th>\n",
       "      <th>Item ID</th>\n",
       "      <th>Item Name</th>\n",
       "      <th>Item Price</th>\n",
       "      <th>Purchase Count</th>\n",
       "      <th>Total Purchase Value</th>\n",
       "    </tr>\n",
       "  </thead>\n",
       "  <tbody>\n",
       "    <tr>\n",
       "      <th>39</th>\n",
       "      <td>39</td>\n",
       "      <td>Betrayal, Whisper of Grieving Widows</td>\n",
       "      <td>2.35</td>\n",
       "      <td>11</td>\n",
       "      <td>25.85</td>\n",
       "    </tr>\n",
       "    <tr>\n",
       "      <th>84</th>\n",
       "      <td>84</td>\n",
       "      <td>Arcane Gem</td>\n",
       "      <td>2.23</td>\n",
       "      <td>11</td>\n",
       "      <td>24.53</td>\n",
       "    </tr>\n",
       "    <tr>\n",
       "      <th>34</th>\n",
       "      <td>34</td>\n",
       "      <td>Retribution Axe</td>\n",
       "      <td>4.14</td>\n",
       "      <td>9</td>\n",
       "      <td>37.26</td>\n",
       "    </tr>\n",
       "    <tr>\n",
       "      <th>31</th>\n",
       "      <td>31</td>\n",
       "      <td>Trickster</td>\n",
       "      <td>2.07</td>\n",
       "      <td>9</td>\n",
       "      <td>18.63</td>\n",
       "    </tr>\n",
       "    <tr>\n",
       "      <th>13</th>\n",
       "      <td>13</td>\n",
       "      <td>Serenity</td>\n",
       "      <td>1.49</td>\n",
       "      <td>9</td>\n",
       "      <td>13.41</td>\n",
       "    </tr>\n",
       "  </tbody>\n",
       "</table>\n",
       "</div>"
      ],
      "text/plain": [
       "    Item ID                             Item Name  Item Price  Purchase Count  \\\n",
       "39       39  Betrayal, Whisper of Grieving Widows        2.35              11   \n",
       "84       84                            Arcane Gem        2.23              11   \n",
       "34       34                       Retribution Axe        4.14               9   \n",
       "31       31                             Trickster        2.07               9   \n",
       "13       13                              Serenity        1.49               9   \n",
       "\n",
       "    Total Purchase Value  \n",
       "39                 25.85  \n",
       "84                 24.53  \n",
       "34                 37.26  \n",
       "31                 18.63  \n",
       "13                 13.41  "
      ]
     },
     "execution_count": 141,
     "metadata": {},
     "output_type": "execute_result"
    }
   ],
   "source": [
    "iid_price_df=pd.DataFrame({'count' : df.groupby( \\\n",
    "                    [ \"Item_ID\",\"Item Name\",\"Price\"] ).size()}).reset_index()\n",
    "iid_lst   = iid_price_df['Item_ID'].tolist()\n",
    "pr_lst    = iid_price_df['Price'].tolist()\n",
    "cnt_lst   = iid_price_df['count'].tolist()\n",
    "name_lst  = iid_price_df['Item Name'].tolist()\n",
    "x=[(a,b,d,c,d*c) for a,b,c,d in zip(iid_lst,name_lst,pr_lst,cnt_lst)]\n",
    "d={'Item ID'             :[z[0] for z in x],'Item Name' :[z[1] for z in x],\\\n",
    "   'Purchase Count'      :[z[2] for z in x],'Item Price':[z[3] for z in x],\\\n",
    "   'Total Purchase Value':[z[4] for z in x]}\n",
    "df__ = pd.DataFrame(data=d)\n",
    "df__sorted = df__.sort_values(by=['Purchase Count','Total Purchase Value'],ascending=False)\n",
    "df__sorted.head()\n",
    "\n",
    "\n"
   ]
  },
  {
   "cell_type": "code",
   "execution_count": 135,
   "metadata": {
    "collapsed": true
   },
   "outputs": [],
   "source": [
    "#Most Profitable Items"
   ]
  },
  {
   "cell_type": "code",
   "execution_count": 136,
   "metadata": {},
   "outputs": [
    {
     "data": {
      "text/html": [
       "<div>\n",
       "<style>\n",
       "    .dataframe thead tr:only-child th {\n",
       "        text-align: right;\n",
       "    }\n",
       "\n",
       "    .dataframe thead th {\n",
       "        text-align: left;\n",
       "    }\n",
       "\n",
       "    .dataframe tbody tr th {\n",
       "        vertical-align: top;\n",
       "    }\n",
       "</style>\n",
       "<table border=\"1\" class=\"dataframe\">\n",
       "  <thead>\n",
       "    <tr style=\"text-align: right;\">\n",
       "      <th></th>\n",
       "      <th>Item ID</th>\n",
       "      <th>Item Name</th>\n",
       "      <th>Item Price</th>\n",
       "      <th>Purchase Count</th>\n",
       "      <th>Total Purchase Value</th>\n",
       "    </tr>\n",
       "  </thead>\n",
       "  <tbody>\n",
       "    <tr>\n",
       "      <th>34</th>\n",
       "      <td>34</td>\n",
       "      <td>Retribution Axe</td>\n",
       "      <td>4.14</td>\n",
       "      <td>9</td>\n",
       "      <td>37.26</td>\n",
       "    </tr>\n",
       "    <tr>\n",
       "      <th>115</th>\n",
       "      <td>115</td>\n",
       "      <td>Spectral Diamond Doomblade</td>\n",
       "      <td>4.25</td>\n",
       "      <td>7</td>\n",
       "      <td>29.75</td>\n",
       "    </tr>\n",
       "    <tr>\n",
       "      <th>32</th>\n",
       "      <td>32</td>\n",
       "      <td>Orenmir</td>\n",
       "      <td>4.95</td>\n",
       "      <td>6</td>\n",
       "      <td>29.70</td>\n",
       "    </tr>\n",
       "    <tr>\n",
       "      <th>103</th>\n",
       "      <td>103</td>\n",
       "      <td>Singed Scalpel</td>\n",
       "      <td>4.87</td>\n",
       "      <td>6</td>\n",
       "      <td>29.22</td>\n",
       "    </tr>\n",
       "    <tr>\n",
       "      <th>107</th>\n",
       "      <td>107</td>\n",
       "      <td>Splitter, Foe Of Subtlety</td>\n",
       "      <td>3.61</td>\n",
       "      <td>8</td>\n",
       "      <td>28.88</td>\n",
       "    </tr>\n",
       "  </tbody>\n",
       "</table>\n",
       "</div>"
      ],
      "text/plain": [
       "     Item ID                   Item Name  Item Price  Purchase Count  \\\n",
       "34        34             Retribution Axe        4.14               9   \n",
       "115      115  Spectral Diamond Doomblade        4.25               7   \n",
       "32        32                     Orenmir        4.95               6   \n",
       "103      103              Singed Scalpel        4.87               6   \n",
       "107      107   Splitter, Foe Of Subtlety        3.61               8   \n",
       "\n",
       "     Total Purchase Value  \n",
       "34                  37.26  \n",
       "115                 29.75  \n",
       "32                  29.70  \n",
       "103                 29.22  \n",
       "107                 28.88  "
      ]
     },
     "execution_count": 136,
     "metadata": {},
     "output_type": "execute_result"
    }
   ],
   "source": [
    "df__sorted = df__.sort_values(by=['Total Purchase Value'],ascending=False)\n",
    "df__sorted.head()\n"
   ]
  }
 ],
 "metadata": {
  "kernelspec": {
   "display_name": "Python 3",
   "language": "python",
   "name": "python3"
  },
  "language_info": {
   "codemirror_mode": {
    "name": "ipython",
    "version": 3
   },
   "file_extension": ".py",
   "mimetype": "text/x-python",
   "name": "python",
   "nbconvert_exporter": "python",
   "pygments_lexer": "ipython3",
   "version": "3.6.3"
  }
 },
 "nbformat": 4,
 "nbformat_minor": 2
}
